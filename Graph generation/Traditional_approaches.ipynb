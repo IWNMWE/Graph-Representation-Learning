{
  "cells": [
    {
      "cell_type": "code",
      "execution_count": null,
      "metadata": {
        "id": "GrWNPejWm1VC"
      },
      "outputs": [],
      "source": [
        "import torch\n",
        "from torch.distributions.categorical import Categorical"
      ]
    },
    {
      "cell_type": "code",
      "execution_count": 40,
      "metadata": {
        "id": "VyQshNgEHyQk"
      },
      "outputs": [],
      "source": [
        "def ER(num_nodes : int, r : int):\n",
        "  # probability and graph matrices\n",
        "  Prob = torch.rand(num_nodes, num_nodes)\n",
        "  A = torch.zeros(num_nodes, num_nodes)\n",
        "\n",
        "\n",
        "  A[Prob < r] = 1\n",
        "  return A"
      ]
    },
    {
      "cell_type": "code",
      "execution_count": 41,
      "metadata": {
        "id": "c2CDoWCtnUz_"
      },
      "outputs": [],
      "source": [
        "def SBC(num_nodes : int, P=None, C=None):\n",
        "\n",
        "  # Cluster assignment and Inter Cluster probabilities.\n",
        "  if P is None:\n",
        "    P = torch.rand(5)\n",
        "  if C is None:\n",
        "    C = torch.rand(5,5)\n",
        "\n",
        "  # probability and graph matrices\n",
        "  Prob = torch.rand(num_nodes, num_nodes)\n",
        "  A = torch.zeros(num_nodes, num_nodes)\n",
        "\n",
        "  # Categorical distribution to assign clusters to the nodes.\n",
        "  dist = Categorical(probs=P)\n",
        "  cluster = dist.sample_n(num_nodes)\n",
        "\n",
        "  cluster_i = cluster.view(-1, 1).repeat(1, num_nodes)\n",
        "  cluster_j = cluster.view(1, -1).repeat(num_nodes, 1)\n",
        "\n",
        "  thresh = C[cluster_i, cluster_j]\n",
        "  A [Prob < thresh] = 1\n",
        "  A [Prob >= thresh] = 0\n",
        "  return A"
      ]
    },
    {
      "cell_type": "code",
      "execution_count": 43,
      "metadata": {
        "id": "TzQ_fqAYouXL"
      },
      "outputs": [],
      "source": [
        "def PA(num_nodes : int, init_num_nodes : int):\n",
        "\n",
        "    A = torch.zeros(num_nodes, num_nodes)\n",
        "\n",
        "    # Initial fully connected nodes.\n",
        "    A[:init_num_nodes, :init_num_nodes] = 1\n",
        "\n",
        "    #iterative node addition\n",
        "    for i in range(num_nodes - init_num_nodes):\n",
        "      prob = torch.sum(A[:init_num_nodes + i, :init_num_nodes + i], 1)\n",
        "      prob = prob / (torch.sum(prob))\n",
        "      print(prob)\n",
        "      rand = torch.rand(prob.shape[-1])\n",
        "      s = torch.zeros(prob.shape[-1])\n",
        "      s[rand  < prob] = 1\n",
        "      s[rand >= prob] = 0\n",
        "      A[init_num_nodes + i, :init_num_nodes + i] = s\n",
        "      A[:init_num_nodes + i, init_num_nodes + i] = s\n",
        "    return A\n",
        "\n"
      ]
    },
    {
      "cell_type": "code",
      "execution_count": null,
      "metadata": {
        "colab": {
          "base_uri": "https://localhost:8080/"
        },
        "id": "Mm4gzV7Ynf4-",
        "outputId": "54685b86-03e8-4526-c843-b50370a42f41"
      },
      "outputs": [
        {
          "data": {
            "text/plain": [
              "tensor([[1., 0., 0., 0., 0., 0., 0., 1., 0., 1.],\n",
              "        [0., 0., 0., 0., 0., 0., 0., 1., 1., 0.],\n",
              "        [1., 0., 0., 0., 0., 0., 0., 0., 0., 0.],\n",
              "        [0., 1., 0., 0., 0., 1., 0., 1., 0., 0.],\n",
              "        [1., 0., 0., 0., 0., 0., 0., 0., 0., 0.],\n",
              "        [0., 1., 0., 1., 0., 0., 1., 0., 0., 0.],\n",
              "        [0., 1., 0., 0., 0., 0., 0., 0., 1., 1.],\n",
              "        [0., 1., 1., 0., 0., 1., 0., 0., 0., 0.],\n",
              "        [0., 1., 0., 0., 0., 0., 0., 0., 0., 0.],\n",
              "        [0., 0., 0., 0., 0., 1., 0., 0., 0., 0.]])"
            ]
          },
          "execution_count": 30,
          "metadata": {},
          "output_type": "execute_result"
        }
      ],
      "source": [
        "ER(10, 0.2)"
      ]
    },
    {
      "cell_type": "code",
      "execution_count": null,
      "metadata": {
        "colab": {
          "base_uri": "https://localhost:8080/"
        },
        "id": "m-hZu0y_nsem",
        "outputId": "14c0ade5-1f13-4b0e-8b59-4e7a1c6a8c0e"
      },
      "outputs": [
        {
          "name": "stderr",
          "output_type": "stream",
          "text": [
            "<ipython-input-22-36e86a393b32>:15: FutureWarning: `sample_n(n)` will be deprecated. Use `sample((n,))` instead.\n",
            "  cluster = dist.sample_n(num_nodes)\n"
          ]
        },
        {
          "data": {
            "text/plain": [
              "tensor([[1., 1., 0., 1., 1., 0., 0., 1., 0., 1.],\n",
              "        [1., 1., 1., 1., 0., 1., 0., 1., 1., 1.],\n",
              "        [1., 1., 1., 0., 1., 1., 1., 1., 1., 1.],\n",
              "        [1., 0., 0., 1., 1., 0., 1., 0., 0., 1.],\n",
              "        [1., 0., 0., 1., 0., 0., 1., 0., 0., 0.],\n",
              "        [0., 1., 1., 1., 0., 1., 0., 1., 0., 1.],\n",
              "        [0., 0., 0., 1., 0., 0., 0., 0., 0., 0.],\n",
              "        [0., 1., 1., 1., 1., 1., 0., 1., 0., 1.],\n",
              "        [1., 1., 1., 1., 1., 1., 1., 1., 0., 1.],\n",
              "        [0., 1., 1., 1., 1., 1., 1., 1., 0., 1.]])"
            ]
          },
          "execution_count": 31,
          "metadata": {},
          "output_type": "execute_result"
        }
      ],
      "source": [
        "SBC(10)"
      ]
    },
    {
      "cell_type": "code",
      "execution_count": 44,
      "metadata": {
        "colab": {
          "base_uri": "https://localhost:8080/"
        },
        "id": "LJF8hObro0MC",
        "outputId": "e573c8bd-0268-47bc-9ddb-cbeaa7dafa7c"
      },
      "outputs": [
        {
          "output_type": "stream",
          "name": "stdout",
          "text": [
            "tensor([0.3333, 0.3333, 0.3333])\n",
            "tensor([0.2727, 0.2727, 0.3636, 0.0909])\n",
            "tensor([0.2308, 0.3077, 0.3077, 0.0769, 0.0769])\n",
            "tensor([0.2308, 0.3077, 0.3077, 0.0769, 0.0769, 0.0000])\n",
            "tensor([0.2308, 0.3077, 0.3077, 0.0769, 0.0769, 0.0000, 0.0000])\n",
            "tensor([0.2000, 0.3333, 0.2667, 0.0667, 0.0667, 0.0000, 0.0000, 0.0667])\n",
            "tensor([0.2000, 0.3333, 0.2667, 0.0667, 0.0667, 0.0000, 0.0000, 0.0667, 0.0000])\n"
          ]
        },
        {
          "output_type": "execute_result",
          "data": {
            "text/plain": [
              "tensor([[1., 1., 1., 0., 0., 0., 0., 0., 0., 0.],\n",
              "        [1., 1., 1., 0., 1., 0., 0., 1., 0., 1.],\n",
              "        [1., 1., 1., 1., 0., 0., 0., 0., 0., 0.],\n",
              "        [0., 0., 1., 0., 0., 0., 0., 0., 0., 0.],\n",
              "        [0., 1., 0., 0., 0., 0., 0., 0., 0., 0.],\n",
              "        [0., 0., 0., 0., 0., 0., 0., 0., 0., 0.],\n",
              "        [0., 0., 0., 0., 0., 0., 0., 0., 0., 0.],\n",
              "        [0., 1., 0., 0., 0., 0., 0., 0., 0., 0.],\n",
              "        [0., 0., 0., 0., 0., 0., 0., 0., 0., 0.],\n",
              "        [0., 1., 0., 0., 0., 0., 0., 0., 0., 0.]])"
            ]
          },
          "metadata": {},
          "execution_count": 44
        }
      ],
      "source": [
        "PA(10, 3)"
      ]
    }
  ],
  "metadata": {
    "colab": {
      "provenance": []
    },
    "kernelspec": {
      "display_name": "Python 3",
      "name": "python3"
    },
    "language_info": {
      "name": "python"
    }
  },
  "nbformat": 4,
  "nbformat_minor": 0
}