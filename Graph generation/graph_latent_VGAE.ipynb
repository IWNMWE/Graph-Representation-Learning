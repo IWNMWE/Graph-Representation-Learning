{
  "cells": [
    {
      "cell_type": "code",
      "execution_count": null,
      "metadata": {
        "id": "UUSkwQ3p-Xb6"
      },
      "outputs": [],
      "source": [
        "!pip install torch_geometric"
      ]
    },
    {
      "cell_type": "code",
      "execution_count": 2,
      "metadata": {
        "id": "5rToD6rAwGmT"
      },
      "outputs": [],
      "source": [
        "import torch\n",
        "import torch_geometric\n",
        "import torch.nn.functional as F\n",
        "from torch_geometric.nn import GCNConv\n",
        "from sklearn.metrics import roc_auc_score"
      ]
    },
    {
      "cell_type": "code",
      "execution_count": 3,
      "metadata": {
        "id": "KVC7Mj1u-PLx"
      },
      "outputs": [],
      "source": [
        "# VGAE\n",
        "class Encoder(torch.nn.Module):\n",
        "  def __init__(self, node_dim : int, latent_var_dim : int = 16, latent_dim : int = 16):\n",
        "    super(Encoder, self).__init__()\n",
        "    self.node_dim = node_dim\n",
        "    self.latent_dim = latent_dim\n",
        "    self.latent_var_dim = latent_var_dim\n",
        "    self.sharedConv = torch_geometric.nn.GCNConv(self.node_dim, self.latent_dim)\n",
        "    self.avgConv = torch_geometric.nn.GCNConv(self.latent_dim, self.latent_var_dim)\n",
        "    self.varConv = torch_geometric.nn.GCNConv(self.latent_dim, self.latent_var_dim)\n",
        "\n",
        "  def forward(self, x, edge_index):\n",
        "    x = self.sharedConv(x, edge_index)\n",
        "    x = torch.relu(x)\n",
        "    avg = self.avgConv(x, edge_index)\n",
        "    avg = torch_geometric.nn.global_mean_pool(avg, batch=None)\n",
        "    log_var = self.varConv(x, edge_index)\n",
        "    log_var = torch_geometric.nn.pool.global_mean_pool(log_var, batch=None)\n",
        "    eps = torch.normal(mean=torch.zeros(avg.shape[0]), std=torch.ones(avg.shape[0]))\n",
        "    embd = avg + (eps.reshape(log_var.shape[0], 1) * torch.exp(0.5 * log_var))\n",
        "    return embd, avg, log_var\n",
        "\n",
        "class Decoder(torch.nn.Module):\n",
        "  def __init__(self, num_nodes : int, latent_var_dim : int, latent_dim = 16):\n",
        "    super(Decoder, self).__init__()\n",
        "    self.num_nodes = num_nodes\n",
        "    self.fc1 = torch.nn.Linear(latent_var_dim, latent_dim)\n",
        "    self.fc2 = torch.nn.Linear(latent_dim, num_nodes * num_nodes)\n",
        "\n",
        "  def forward(self, latent):\n",
        "    x = self.fc1(latent)\n",
        "    x = torch.relu(x)\n",
        "    x = self.fc2(x)\n",
        "    x = x.reshape(self.num_nodes, self.num_nodes)\n",
        "    x = F.sigmoid(x)\n",
        "    return x\n",
        "\n",
        "class VGAE(torch.nn.Module):\n",
        "  def __init__(self, node_dim : int, num_nodes : int, latent_var_dim : int  = 16, latent_dim : int = 16):\n",
        "    super(VGAE, self).__init__()\n",
        "    self.encoder = Encoder(node_dim, latent_var_dim, latent_dim)\n",
        "    self.decoder = Decoder(num_nodes, latent_var_dim, latent_dim)\n",
        "\n",
        "  def forward(self, x, edge_index):\n",
        "    embd, avg, log_var = self.encoder(x, edge_index)\n",
        "    print(embd.shape)\n",
        "    x = self.decoder(embd)\n",
        "    return x, avg, log_var"
      ]
    },
    {
      "cell_type": "code",
      "execution_count": 4,
      "metadata": {
        "id": "xLlqk2XVzc0j"
      },
      "outputs": [],
      "source": [
        "from torch_geometric.datasets import Planetoid\n",
        "dataset = Planetoid(root='/tmp/Cora', name='Cora')\n",
        "data = dataset[0]"
      ]
    },
    {
      "cell_type": "code",
      "execution_count": null,
      "metadata": {
        "colab": {
          "base_uri": "https://localhost:8080/"
        },
        "id": "HosAydZ-KeIk",
        "outputId": "507c078e-fcee-47d4-fe0a-a64af845071b"
      },
      "outputs": [
        {
          "output_type": "stream",
          "name": "stdout",
          "text": [
            "torch.Size([1, 128])\n",
            "Epoch  0  :  tensor(1.5029e-05, grad_fn=<DivBackward0>)\n",
            "ROC AUC :  0.5047393142911228\n",
            "torch.Size([1, 128])\n",
            "Epoch  1  :  tensor(6.4246e-06, grad_fn=<DivBackward0>)\n",
            "ROC AUC :  0.5046181828226488\n",
            "torch.Size([1, 128])\n",
            "Epoch  2  :  tensor(5.0501e-06, grad_fn=<DivBackward0>)\n",
            "ROC AUC :  0.504362025968981\n",
            "torch.Size([1, 128])\n",
            "Epoch  3  :  tensor(6.9701e-06, grad_fn=<DivBackward0>)\n",
            "ROC AUC :  0.5099879343724412\n",
            "torch.Size([1, 128])\n",
            "Epoch  4  :  tensor(7.9722e-06, grad_fn=<DivBackward0>)\n",
            "ROC AUC :  0.510640523100737\n",
            "torch.Size([1, 128])\n",
            "Epoch  5  :  tensor(7.5232e-06, grad_fn=<DivBackward0>)\n",
            "ROC AUC :  0.49930506697963084\n",
            "torch.Size([1, 128])\n",
            "Epoch  6  :  tensor(6.8346e-06, grad_fn=<DivBackward0>)\n",
            "ROC AUC :  0.5140592644112534\n",
            "torch.Size([1, 128])\n",
            "Epoch  7  :  tensor(5.9771e-06, grad_fn=<DivBackward0>)\n",
            "ROC AUC :  0.5115737247052865\n",
            "torch.Size([1, 128])\n",
            "Epoch  8  :  tensor(5.1543e-06, grad_fn=<DivBackward0>)\n",
            "ROC AUC :  0.5145239388729249\n",
            "torch.Size([1, 128])\n",
            "Epoch  9  :  tensor(4.4010e-06, grad_fn=<DivBackward0>)\n",
            "ROC AUC :  0.5209432956100347\n",
            "torch.Size([1, 128])\n",
            "Epoch  10  :  tensor(3.6543e-06, grad_fn=<DivBackward0>)\n",
            "ROC AUC :  0.5252628550659506\n",
            "torch.Size([1, 128])\n",
            "Epoch  11  :  tensor(2.9440e-06, grad_fn=<DivBackward0>)\n",
            "ROC AUC :  0.5321805106987131\n",
            "torch.Size([1, 128])\n",
            "Epoch  12  :  tensor(2.3475e-06, grad_fn=<DivBackward0>)\n",
            "ROC AUC :  0.536350994543097\n",
            "torch.Size([1, 128])\n",
            "Epoch  13  :  tensor(1.9711e-06, grad_fn=<DivBackward0>)\n",
            "ROC AUC :  0.5251345861438431\n",
            "torch.Size([1, 128])\n",
            "Epoch  14  :  tensor(1.8158e-06, grad_fn=<DivBackward0>)\n",
            "ROC AUC :  0.5555960793287497\n",
            "torch.Size([1, 128])\n",
            "Epoch  15  :  tensor(1.9669e-06, grad_fn=<DivBackward0>)\n",
            "ROC AUC :  0.5598535104296638\n",
            "torch.Size([1, 128])\n",
            "Epoch  16  :  tensor(2.4450e-06, grad_fn=<DivBackward0>)\n",
            "ROC AUC :  0.5781912874231145\n",
            "torch.Size([1, 128])\n",
            "Epoch  17  :  tensor(3.3646e-06, grad_fn=<DivBackward0>)\n",
            "ROC AUC :  0.5277333863963963\n",
            "torch.Size([1, 128])\n",
            "Epoch  18  :  tensor(4.0817e-06, grad_fn=<DivBackward0>)\n",
            "ROC AUC :  0.5418414304828633\n",
            "torch.Size([1, 128])\n",
            "Epoch  19  :  tensor(4.3383e-06, grad_fn=<DivBackward0>)\n",
            "ROC AUC :  0.5782319130532438\n",
            "torch.Size([1, 128])\n",
            "Epoch  20  :  tensor(4.0611e-06, grad_fn=<DivBackward0>)\n",
            "ROC AUC :  0.6039542700035097\n",
            "torch.Size([1, 128])\n",
            "Epoch  21  :  tensor(4.1213e-06, grad_fn=<DivBackward0>)\n",
            "ROC AUC :  0.6184955615663573\n",
            "torch.Size([1, 128])\n",
            "Epoch  22  :  tensor(3.6420e-06, grad_fn=<DivBackward0>)\n",
            "ROC AUC :  0.608390776144542\n",
            "torch.Size([1, 128])\n",
            "Epoch  23  :  tensor(2.9870e-06, grad_fn=<DivBackward0>)\n",
            "ROC AUC :  0.7001704354280793\n",
            "torch.Size([1, 128])\n",
            "Epoch  24  :  tensor(3.5548e-06, grad_fn=<DivBackward0>)\n",
            "ROC AUC :  0.6670458279271285\n",
            "torch.Size([1, 128])\n",
            "Epoch  25  :  tensor(4.0760e-06, grad_fn=<DivBackward0>)\n",
            "ROC AUC :  0.7044157686043033\n",
            "torch.Size([1, 128])\n",
            "Epoch  26  :  tensor(4.6183e-06, grad_fn=<DivBackward0>)\n",
            "ROC AUC :  0.7323467959171948\n",
            "torch.Size([1, 128])\n",
            "Epoch  27  :  tensor(6.1875e-06, grad_fn=<DivBackward0>)\n",
            "ROC AUC :  0.8627885065359682\n",
            "torch.Size([1, 128])\n",
            "Epoch  28  :  tensor(9.2103e-06, grad_fn=<DivBackward0>)\n",
            "ROC AUC :  0.8068253526983109\n",
            "torch.Size([1, 128])\n",
            "Epoch  29  :  tensor(1.4178e-05, grad_fn=<DivBackward0>)\n",
            "ROC AUC :  0.8563354405508183\n",
            "torch.Size([1, 128])\n",
            "Epoch  30  :  tensor(2.1759e-05, grad_fn=<DivBackward0>)\n",
            "ROC AUC :  0.9370921894319207\n",
            "torch.Size([1, 128])\n",
            "Epoch  31  :  tensor(2.7423e-05, grad_fn=<DivBackward0>)\n",
            "ROC AUC :  0.9235614407682545\n",
            "torch.Size([1, 128])\n",
            "Epoch  32  :  tensor(3.7346e-05, grad_fn=<DivBackward0>)\n",
            "ROC AUC :  0.9407348943605548\n",
            "torch.Size([1, 128])\n",
            "Epoch  33  :  tensor(5.0024e-05, grad_fn=<DivBackward0>)\n",
            "ROC AUC :  0.9575263984668647\n",
            "torch.Size([1, 128])\n",
            "Epoch  34  :  tensor(6.6800e-05, grad_fn=<DivBackward0>)\n",
            "ROC AUC :  0.9760330436925083\n",
            "torch.Size([1, 128])\n",
            "Epoch  35  :  tensor(9.0511e-05, grad_fn=<DivBackward0>)\n",
            "ROC AUC :  0.9862229031004875\n",
            "torch.Size([1, 128])\n",
            "Epoch  36  :  tensor(0.0001, grad_fn=<DivBackward0>)\n",
            "ROC AUC :  0.9895677049350452\n",
            "torch.Size([1, 128])\n",
            "Epoch  37  :  tensor(0.0001, grad_fn=<DivBackward0>)\n",
            "ROC AUC :  0.9913757247839208\n",
            "torch.Size([1, 128])\n",
            "Epoch  38  :  tensor(0.0001, grad_fn=<DivBackward0>)\n",
            "ROC AUC :  0.9943690863316029\n",
            "torch.Size([1, 128])\n"
          ]
        }
      ],
      "source": [
        "model = VGAE(node_dim=data.x.shape[1], num_nodes=data.x.shape[0], latent_var_dim=128, latent_dim=16)\n",
        "nodes = data.x.shape[0]\n",
        "optimizer = torch.optim.Adam(model.parameters(), lr=0.01, weight_decay=5e-4)\n",
        "pos_weight = float(nodes * nodes - data.edge_index.shape[1]) / data.edge_index.shape[1]\n",
        "lossfunc = torch.nn.BCEWithLogitsLoss(pos_weight=torch.tensor(pos_weight))\n",
        "\n",
        "for i in range(200):\n",
        "  optimizer.zero_grad()\n",
        "  adj_model, avg, log_var = model(data.x, data.edge_index)\n",
        "  adj_model = adj_model.flatten()\n",
        "  adj = torch_geometric.utils.to_dense_adj(data.edge_index)[0]\n",
        "  adj = adj.flatten()\n",
        "  norm = nodes * nodes / float(2 * (nodes * nodes - adj.sum()))\n",
        "  loss =  norm * lossfunc(adj_model, adj)\n",
        "  KLD = (-0.5   * torch.sum(1 + log_var - avg.pow(2) - log_var.exp())) / (nodes)\n",
        "  loss = loss + KLD\n",
        "  loss.backward()\n",
        "  optimizer.step()\n",
        "  adj = adj.detach()\n",
        "  adj_model = adj_model.detach()\n",
        "  print('Epoch ', i, ' : ', KLD)\n",
        "  print('ROC AUC : ', roc_auc_score(adj, adj_model))"
      ]
    },
    {
      "cell_type": "code",
      "execution_count": null,
      "metadata": {
        "id": "Da03qneyzcFj"
      },
      "outputs": [],
      "source": [
        "out, avg, log_var = model(data.x, data.edge_index)"
      ]
    }
  ],
  "metadata": {
    "colab": {
      "provenance": []
    },
    "kernelspec": {
      "display_name": "Python 3",
      "name": "python3"
    },
    "language_info": {
      "name": "python"
    }
  },
  "nbformat": 4,
  "nbformat_minor": 0
}