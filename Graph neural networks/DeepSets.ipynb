{
  "cells": [
    {
      "cell_type": "code",
      "execution_count": 88,
      "metadata": {
        "id": "jDm82ywrKfi4"
      },
      "outputs": [],
      "source": [
        "import torch"
      ]
    },
    {
      "cell_type": "code",
      "execution_count": 89,
      "metadata": {
        "colab": {
          "base_uri": "https://localhost:8080/"
        },
        "id": "vxPo7o4ILTng",
        "outputId": "3d0f95a7-8773-4831-c88a-7a16656d97fa"
      },
      "outputs": [
        {
          "output_type": "stream",
          "name": "stdout",
          "text": [
            "Requirement already satisfied: torch_geometric in /usr/local/lib/python3.10/dist-packages (2.6.1)\n",
            "Requirement already satisfied: aiohttp in /usr/local/lib/python3.10/dist-packages (from torch_geometric) (3.11.9)\n",
            "Requirement already satisfied: fsspec in /usr/local/lib/python3.10/dist-packages (from torch_geometric) (2024.10.0)\n",
            "Requirement already satisfied: jinja2 in /usr/local/lib/python3.10/dist-packages (from torch_geometric) (3.1.4)\n",
            "Requirement already satisfied: numpy in /usr/local/lib/python3.10/dist-packages (from torch_geometric) (1.26.4)\n",
            "Requirement already satisfied: psutil>=5.8.0 in /usr/local/lib/python3.10/dist-packages (from torch_geometric) (5.9.5)\n",
            "Requirement already satisfied: pyparsing in /usr/local/lib/python3.10/dist-packages (from torch_geometric) (3.2.0)\n",
            "Requirement already satisfied: requests in /usr/local/lib/python3.10/dist-packages (from torch_geometric) (2.32.3)\n",
            "Requirement already satisfied: tqdm in /usr/local/lib/python3.10/dist-packages (from torch_geometric) (4.66.6)\n",
            "Requirement already satisfied: aiohappyeyeballs>=2.3.0 in /usr/local/lib/python3.10/dist-packages (from aiohttp->torch_geometric) (2.4.4)\n",
            "Requirement already satisfied: aiosignal>=1.1.2 in /usr/local/lib/python3.10/dist-packages (from aiohttp->torch_geometric) (1.3.1)\n",
            "Requirement already satisfied: async-timeout<6.0,>=4.0 in /usr/local/lib/python3.10/dist-packages (from aiohttp->torch_geometric) (4.0.3)\n",
            "Requirement already satisfied: attrs>=17.3.0 in /usr/local/lib/python3.10/dist-packages (from aiohttp->torch_geometric) (24.2.0)\n",
            "Requirement already satisfied: frozenlist>=1.1.1 in /usr/local/lib/python3.10/dist-packages (from aiohttp->torch_geometric) (1.5.0)\n",
            "Requirement already satisfied: multidict<7.0,>=4.5 in /usr/local/lib/python3.10/dist-packages (from aiohttp->torch_geometric) (6.1.0)\n",
            "Requirement already satisfied: propcache>=0.2.0 in /usr/local/lib/python3.10/dist-packages (from aiohttp->torch_geometric) (0.2.1)\n",
            "Requirement already satisfied: yarl<2.0,>=1.17.0 in /usr/local/lib/python3.10/dist-packages (from aiohttp->torch_geometric) (1.18.3)\n",
            "Requirement already satisfied: MarkupSafe>=2.0 in /usr/local/lib/python3.10/dist-packages (from jinja2->torch_geometric) (3.0.2)\n",
            "Requirement already satisfied: charset-normalizer<4,>=2 in /usr/local/lib/python3.10/dist-packages (from requests->torch_geometric) (3.4.0)\n",
            "Requirement already satisfied: idna<4,>=2.5 in /usr/local/lib/python3.10/dist-packages (from requests->torch_geometric) (3.10)\n",
            "Requirement already satisfied: urllib3<3,>=1.21.1 in /usr/local/lib/python3.10/dist-packages (from requests->torch_geometric) (2.2.3)\n",
            "Requirement already satisfied: certifi>=2017.4.17 in /usr/local/lib/python3.10/dist-packages (from requests->torch_geometric) (2024.8.30)\n",
            "Requirement already satisfied: typing-extensions>=4.1.0 in /usr/local/lib/python3.10/dist-packages (from multidict<7.0,>=4.5->aiohttp->torch_geometric) (4.12.2)\n"
          ]
        }
      ],
      "source": [
        "!pip install torch_geometric\n",
        "import torch_geometric as pyg\n",
        "from torch_geometric.datasets import Planetoid"
      ]
    },
    {
      "cell_type": "code",
      "execution_count": 90,
      "metadata": {
        "id": "jL4hQgyYLa87"
      },
      "outputs": [],
      "source": [
        "dataset = Planetoid(root='/tmp/Cora', name='Cora')\n",
        "device = torch.device('cuda' if torch.cuda.is_available() else 'cpu')"
      ]
    },
    {
      "cell_type": "code",
      "execution_count": null,
      "metadata": {
        "id": "7m35rfGoLmyS"
      },
      "outputs": [],
      "source": [
        "class DeepSet(torch.nn.Module):\n",
        "    def __init__(self, in_channels : int, out_channels : int, message_channels=None,\n",
        "                 hidden_channels=None, in_network=None, out_network=None,\n",
        "                 in_activation=torch.nn.ReLU(), out_activation=torch.sigmoid):\n",
        "        super(DeepSet, self).__init__()\n",
        "        self.in_channels = in_channels\n",
        "        self.out_channels = out_channels\n",
        "        if hidden_channels is None:\n",
        "            self.hidden_channels = in_channels // 2\n",
        "        else:\n",
        "            self.hidden_channels = hidden_channels\n",
        "        if message_channels is None:\n",
        "          self.message_channels = in_channels\n",
        "        else:\n",
        "          self.message_channels = message_channels\n",
        "        if in_network is None:\n",
        "            self.in_network = torch.nn.Linear(in_channels, self.hidden_channels)\n",
        "        else:\n",
        "            self.in_network = in_network\n",
        "        if out_network is None:\n",
        "            self.out_network = torch.nn.Linear(self.hidden_channels, self.message_channels)\n",
        "        else:\n",
        "            self.out_network = out_network\n",
        "        W_message = torch.nn.Parameter(torch.rand(self.out_channels, self.message_channels))\n",
        "        self.register_parameter('W_message', W_message)\n",
        "        W_alpha = torch.nn.Parameter(torch.rand(self.out_channels, self.in_channels))\n",
        "        self.register_parameter('W_alpha', W_alpha)\n",
        "        self.in_activation = in_activation\n",
        "        self.out_activation = out_activation\n",
        "        self.reset_parameters()\n",
        "\n",
        "    def reset_parameters(self):\n",
        "        self.in_network.reset_parameters()\n",
        "        self.out_network.reset_parameters()\n",
        "        torch.nn.init.xavier_uniform_(self.W_message)\n",
        "        torch.nn.init.xavier_uniform_(self.W_alpha)\n",
        "\n",
        "    def forward(self, X, A):\n",
        "        alpha = self.in_network(X)\n",
        "        alpha = self.in_activation(alpha)\n",
        "        alpha  = torch.mm(A, alpha)\n",
        "        message = self.out_network(alpha)\n",
        "\n",
        "        return self.out_activation(torch.mm(message, self.W_message.t()) + torch.mm(X, self.W_alpha.t()))\n",
        "\n"
      ]
    },
    {
      "cell_type": "code",
      "execution_count": null,
      "metadata": {
        "id": "6r-y1qE1jWRH"
      },
      "outputs": [],
      "source": [
        "device = torch.device('cuda')"
      ]
    },
    {
      "cell_type": "code",
      "execution_count": null,
      "metadata": {
        "id": "I0UjEEeAV9Jb"
      },
      "outputs": [],
      "source": [
        "A = torch.zeros(dataset.x.shape[0], dataset.x.shape[0], requires_grad=False)\n",
        "edge_index = dataset.edge_index\n",
        "for i in range (0, edge_index.shape[1]):\n",
        "  A[edge_index[0, i], edge_index[1, i]] += 1\n",
        "A = A.to(device)\n",
        "H = dataset.x.to(device)"
      ]
    },
    {
      "cell_type": "code",
      "execution_count": null,
      "metadata": {
        "id": "NZQVT-b1V_qU"
      },
      "outputs": [],
      "source": [
        "class SemiSupervisedClassifier(torch.nn.Module):\n",
        "    def __init__(self, input_embed_dim : int,  num_classes : int, latent_dim = None):\n",
        "        super(SemiSupervisedClassifier, self).__init__()\n",
        "        if latent_dim is None:\n",
        "          latent_dim = input_embed_dim\n",
        "        self.gnn1 = DeepSet(input_embed_dim, latent_dim)\n",
        "        self.gnn2 = DeepSet(latent_dim, num_classes)\n",
        "\n",
        "    def forward(self, H : torch.Tensor, A : torch.Tensor):\n",
        "        return self.gnn2(self.gnn1(H, A), A)"
      ]
    },
    {
      "cell_type": "code",
      "execution_count": null,
      "metadata": {
        "id": "3sTeHGpOWCmf"
      },
      "outputs": [],
      "source": [
        "model = SemiSupervisedClassifier(dataset.x.shape[1], dataset.num_classes).to(torch.device('cuda'))"
      ]
    },
    {
      "cell_type": "code",
      "source": [
        "import torch\n",
        "from torch.nn import Linear, Parameter\n",
        "from torch_geometric.nn import MessagePassing\n",
        "from torch_geometric.utils import add_self_loops, degree\n",
        "\n",
        "class DeepSets(MessagePassing):\n",
        "    def __init__(self, in_channels : int, out_channels : int, message_channels=None,\n",
        "                 hidden_channels=None, in_network=None, out_network=None,\n",
        "                 activation=torch.nn.ReLU()):\n",
        "        super().__init__(aggr='add')  # \"Add\" aggregation (Step 5).\n",
        "        self.in_channels  = in_channels\n",
        "        self.out_channels = out_channels\n",
        "        if hidden_channels is None:\n",
        "            self.hidden_channels = in_channels // 2\n",
        "        else:\n",
        "            self.hidden_channels = hidden_channels\n",
        "        if message_channels is None:\n",
        "          self.message_channels = in_channels\n",
        "        else:\n",
        "          self.message_channels = message_channels\n",
        "        if in_network is None:\n",
        "          self.in_network = torch.nn.Sequential(torch.nn.Linear(self.in_channels,\n",
        "                                                  self.hidden_channels // 2, bias=True),\n",
        "                                                torch.nn.ReLU(),\n",
        "                                                torch.nn.Linear(self.hidden_channels // 2,\n",
        "                                                    self.hidden_channels, bias=True),\n",
        "                                                torch.nn.ReLU())\n",
        "        else:\n",
        "          self.in_network = in_network\n",
        "\n",
        "        if out_network is None:\n",
        "          self.out_network = torch.nn.Sequential(torch.nn.Linear(self.hidden_channels,\n",
        "                                                  self.message_channels // 2, bias=True),\n",
        "                                                torch.nn.ReLU(),\n",
        "                                                 torch.nn.Linear(self.message_channels // 2,\n",
        "                                                    self.message_channels, bias=True),\n",
        "                                                torch.nn.ReLU())\n",
        "        else:\n",
        "          self.out_network = out_network\n",
        "\n",
        "        self.lin = Linear(self.in_channels, self.out_channels, bias=True)\n",
        "        self.linn = Linear(self.message_channels, self.out_channels, bias=True)\n",
        "        self.reset_parameters()\n",
        "        self.activation = activation\n",
        "    def reset_parameters(self):\n",
        "        self.lin.reset_parameters()\n",
        "        self.linn.reset_parameters()\n",
        "\n",
        "    def forward(self, X, edge_index):\n",
        "        # x has shape [N, in_channels]\n",
        "        # edge_index has shape [2, E]\n",
        "\n",
        "        # Step 2: Linearly transform node feature matrix.\n",
        "        x = self.lin(X)\n",
        "\n",
        "        # Step 4-5: Start propagating messages.\n",
        "        out = self.propagate(edge_index, x=X, norm=norm)\n",
        "\n",
        "        # Step 6: Apply a final bias vector.\n",
        "        out = self.linn(self.out_network(out))\n",
        "        return self.activation(out + x)\n",
        "\n",
        "    def message(self, x_j, norm):\n",
        "        # x_j has shape [E, out_channels]\n",
        "        # Step 4: Inner network\n",
        "        return self.in_network(x_j)"
      ],
      "metadata": {
        "id": "JAIEfUKG7uL4"
      },
      "execution_count": 105,
      "outputs": []
    },
    {
      "cell_type": "code",
      "source": [
        "edge_index = dataset.edge_index"
      ],
      "metadata": {
        "id": "KxalG3ug5djN"
      },
      "execution_count": 106,
      "outputs": []
    },
    {
      "cell_type": "code",
      "source": [
        "x = dataset.x"
      ],
      "metadata": {
        "id": "AMpzyweW5jXu"
      },
      "execution_count": 114,
      "outputs": []
    },
    {
      "cell_type": "code",
      "source": [
        "class SemiSupervisedClassifier(torch.nn.Module):\n",
        "    def __init__(self, input_embed_dim : int,  num_classes : int, latent_dim = None):\n",
        "        super(SemiSupervisedClassifier, self).__init__()\n",
        "        if latent_dim is None:\n",
        "          latent_dim = input_embed_dim\n",
        "        self.gnn1 = DeepSets(input_embed_dim, latent_dim, )\n",
        "        self.gnn2 = DeepSets(latent_dim, num_classes)\n",
        "\n",
        "    def forward(self, H : torch.Tensor, A : torch.Tensor):\n",
        "        return self.gnn2(self.gnn1(H, A), A)"
      ],
      "metadata": {
        "id": "bfSYsP1c5mGL"
      },
      "execution_count": 108,
      "outputs": []
    },
    {
      "cell_type": "code",
      "source": [
        "model = SemiSupervisedClassifier(dataset.x.shape[1], dataset.num_classes)"
      ],
      "metadata": {
        "id": "raF35wsg6uS-"
      },
      "execution_count": 109,
      "outputs": []
    },
    {
      "cell_type": "code",
      "source": [
        "import torch.nn.functional as F\n",
        "optimizer = torch.optim.Adam(model.parameters(), lr=1e-5, weight_decay=5e-4)\n",
        "\n",
        "model.train()\n",
        "for epoch in range(10):\n",
        "    optimizer.zero_grad()\n",
        "    out = model(x, edge_index)\n",
        "    loss = F.nll_loss(out[dataset.train_mask], dataset.y[dataset.train_mask])\n",
        "    print(loss)\n",
        "    loss.backward()\n",
        "    optimizer.step()"
      ],
      "metadata": {
        "colab": {
          "base_uri": "https://localhost:8080/"
        },
        "id": "Jzlb308w8zCC",
        "outputId": "4d66df95-595f-4df9-ec65-6c543969ef2f"
      },
      "execution_count": 110,
      "outputs": [
        {
          "output_type": "stream",
          "name": "stdout",
          "text": [
            "tensor(-0.0190, grad_fn=<NllLossBackward0>)\n",
            "tensor(-0.0217, grad_fn=<NllLossBackward0>)\n",
            "tensor(-0.0244, grad_fn=<NllLossBackward0>)\n",
            "tensor(-0.0272, grad_fn=<NllLossBackward0>)\n",
            "tensor(-0.0300, grad_fn=<NllLossBackward0>)\n",
            "tensor(-0.0328, grad_fn=<NllLossBackward0>)\n",
            "tensor(-0.0358, grad_fn=<NllLossBackward0>)\n",
            "tensor(-0.0389, grad_fn=<NllLossBackward0>)\n",
            "tensor(-0.0420, grad_fn=<NllLossBackward0>)\n",
            "tensor(-0.0452, grad_fn=<NllLossBackward0>)\n"
          ]
        }
      ]
    },
    {
      "cell_type": "code",
      "source": [
        "model.eval()\n",
        "pred = model(x, edge_index).argmax(dim=1)\n",
        "correct = (pred[dataset.test_mask] == dataset.y[dataset.test_mask]).sum()\n",
        "acc = int(correct) / int(dataset.test_mask.sum())\n",
        "print(f'Accuracy: {acc:.4f}')"
      ],
      "metadata": {
        "colab": {
          "base_uri": "https://localhost:8080/"
        },
        "id": "F-RCbwZKQOPV",
        "outputId": "3034e2b2-84e1-4de7-d600-2637b0f34492"
      },
      "execution_count": 111,
      "outputs": [
        {
          "output_type": "stream",
          "name": "stdout",
          "text": [
            "Accuracy: 0.2750\n"
          ]
        }
      ]
    }
  ],
  "metadata": {
    "accelerator": "GPU",
    "colab": {
      "gpuType": "T4",
      "provenance": []
    },
    "kernelspec": {
      "display_name": "Python 3",
      "name": "python3"
    },
    "language_info": {
      "name": "python"
    }
  },
  "nbformat": 4,
  "nbformat_minor": 0
}