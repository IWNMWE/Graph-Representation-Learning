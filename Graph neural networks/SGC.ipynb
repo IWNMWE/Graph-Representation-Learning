{
  "nbformat": 4,
  "nbformat_minor": 0,
  "metadata": {
    "colab": {
      "provenance": []
    },
    "kernelspec": {
      "name": "python3",
      "display_name": "Python 3"
    },
    "language_info": {
      "name": "python"
    }
  },
  "cells": [
    {
      "cell_type": "code",
      "execution_count": 1,
      "metadata": {
        "id": "l2OlLLHAz1uk"
      },
      "outputs": [],
      "source": [
        "import torch"
      ]
    },
    {
      "cell_type": "code",
      "source": [
        "!pip install torch_geometric"
      ],
      "metadata": {
        "colab": {
          "base_uri": "https://localhost:8080/"
        },
        "id": "1GZ4A3k1arAI",
        "outputId": "50061db1-4735-46a1-ce79-5a7c53bd0ae7"
      },
      "execution_count": 2,
      "outputs": [
        {
          "output_type": "stream",
          "name": "stdout",
          "text": [
            "Collecting torch_geometric\n",
            "  Downloading torch_geometric-2.6.1-py3-none-any.whl.metadata (63 kB)\n",
            "\u001b[?25l     \u001b[90m━━━━━━━━━━━━━━━━━━━━━━━━━━━━━━━━━━━━━━━━\u001b[0m \u001b[32m0.0/63.1 kB\u001b[0m \u001b[31m?\u001b[0m eta \u001b[36m-:--:--\u001b[0m\r\u001b[2K     \u001b[90m━━━━━━━━━━━━━━━━━━━━━━━━━━━━━━━━━━━━━━━━\u001b[0m \u001b[32m63.1/63.1 kB\u001b[0m \u001b[31m2.4 MB/s\u001b[0m eta \u001b[36m0:00:00\u001b[0m\n",
            "\u001b[?25hRequirement already satisfied: aiohttp in /usr/local/lib/python3.10/dist-packages (from torch_geometric) (3.11.11)\n",
            "Requirement already satisfied: fsspec in /usr/local/lib/python3.10/dist-packages (from torch_geometric) (2024.10.0)\n",
            "Requirement already satisfied: jinja2 in /usr/local/lib/python3.10/dist-packages (from torch_geometric) (3.1.5)\n",
            "Requirement already satisfied: numpy in /usr/local/lib/python3.10/dist-packages (from torch_geometric) (1.26.4)\n",
            "Requirement already satisfied: psutil>=5.8.0 in /usr/local/lib/python3.10/dist-packages (from torch_geometric) (5.9.5)\n",
            "Requirement already satisfied: pyparsing in /usr/local/lib/python3.10/dist-packages (from torch_geometric) (3.2.1)\n",
            "Requirement already satisfied: requests in /usr/local/lib/python3.10/dist-packages (from torch_geometric) (2.32.3)\n",
            "Requirement already satisfied: tqdm in /usr/local/lib/python3.10/dist-packages (from torch_geometric) (4.67.1)\n",
            "Requirement already satisfied: aiohappyeyeballs>=2.3.0 in /usr/local/lib/python3.10/dist-packages (from aiohttp->torch_geometric) (2.4.4)\n",
            "Requirement already satisfied: aiosignal>=1.1.2 in /usr/local/lib/python3.10/dist-packages (from aiohttp->torch_geometric) (1.3.2)\n",
            "Requirement already satisfied: async-timeout<6.0,>=4.0 in /usr/local/lib/python3.10/dist-packages (from aiohttp->torch_geometric) (4.0.3)\n",
            "Requirement already satisfied: attrs>=17.3.0 in /usr/local/lib/python3.10/dist-packages (from aiohttp->torch_geometric) (24.3.0)\n",
            "Requirement already satisfied: frozenlist>=1.1.1 in /usr/local/lib/python3.10/dist-packages (from aiohttp->torch_geometric) (1.5.0)\n",
            "Requirement already satisfied: multidict<7.0,>=4.5 in /usr/local/lib/python3.10/dist-packages (from aiohttp->torch_geometric) (6.1.0)\n",
            "Requirement already satisfied: propcache>=0.2.0 in /usr/local/lib/python3.10/dist-packages (from aiohttp->torch_geometric) (0.2.1)\n",
            "Requirement already satisfied: yarl<2.0,>=1.17.0 in /usr/local/lib/python3.10/dist-packages (from aiohttp->torch_geometric) (1.18.3)\n",
            "Requirement already satisfied: MarkupSafe>=2.0 in /usr/local/lib/python3.10/dist-packages (from jinja2->torch_geometric) (3.0.2)\n",
            "Requirement already satisfied: charset-normalizer<4,>=2 in /usr/local/lib/python3.10/dist-packages (from requests->torch_geometric) (3.4.1)\n",
            "Requirement already satisfied: idna<4,>=2.5 in /usr/local/lib/python3.10/dist-packages (from requests->torch_geometric) (3.10)\n",
            "Requirement already satisfied: urllib3<3,>=1.21.1 in /usr/local/lib/python3.10/dist-packages (from requests->torch_geometric) (2.3.0)\n",
            "Requirement already satisfied: certifi>=2017.4.17 in /usr/local/lib/python3.10/dist-packages (from requests->torch_geometric) (2024.12.14)\n",
            "Requirement already satisfied: typing-extensions>=4.1.0 in /usr/local/lib/python3.10/dist-packages (from multidict<7.0,>=4.5->aiohttp->torch_geometric) (4.12.2)\n",
            "Downloading torch_geometric-2.6.1-py3-none-any.whl (1.1 MB)\n",
            "\u001b[2K   \u001b[90m━━━━━━━━━━━━━━━━━━━━━━━━━━━━━━━━━━━━━━━━\u001b[0m \u001b[32m1.1/1.1 MB\u001b[0m \u001b[31m28.6 MB/s\u001b[0m eta \u001b[36m0:00:00\u001b[0m\n",
            "\u001b[?25hInstalling collected packages: torch_geometric\n",
            "Successfully installed torch_geometric-2.6.1\n"
          ]
        }
      ]
    },
    {
      "cell_type": "code",
      "source": [
        "from torch_geometric.datasets import Planetoid\n",
        "dataset = Planetoid(root='/tmp/Cora', name='Cora')"
      ],
      "metadata": {
        "colab": {
          "base_uri": "https://localhost:8080/"
        },
        "id": "n6h0ed9gbhXy",
        "outputId": "460a0e25-78bb-4a7f-ddc8-aa6608a054eb"
      },
      "execution_count": 3,
      "outputs": [
        {
          "output_type": "stream",
          "name": "stderr",
          "text": [
            "Downloading https://github.com/kimiyoung/planetoid/raw/master/data/ind.cora.x\n",
            "Downloading https://github.com/kimiyoung/planetoid/raw/master/data/ind.cora.tx\n",
            "Downloading https://github.com/kimiyoung/planetoid/raw/master/data/ind.cora.allx\n",
            "Downloading https://github.com/kimiyoung/planetoid/raw/master/data/ind.cora.y\n",
            "Downloading https://github.com/kimiyoung/planetoid/raw/master/data/ind.cora.ty\n",
            "Downloading https://github.com/kimiyoung/planetoid/raw/master/data/ind.cora.ally\n",
            "Downloading https://github.com/kimiyoung/planetoid/raw/master/data/ind.cora.graph\n",
            "Downloading https://github.com/kimiyoung/planetoid/raw/master/data/ind.cora.test.index\n",
            "Processing...\n",
            "Done!\n"
          ]
        }
      ]
    },
    {
      "cell_type": "code",
      "source": [
        "class SGCN(torch.nn.Module):\n",
        "    def __init__(self, input_embed_dim : int, output_embed_dim : int, k : int):\n",
        "        super(SGCN, self).__init__()\n",
        "        # The input embedding dimensions.\n",
        "        self.input_embed_dim = input_embed_dim\n",
        "        # The output embedding dimensions.\n",
        "        self.output_embed_dim = output_embed_dim\n",
        "        # The non linearity\n",
        "        self.k = k\n",
        "        self.weights = torch.nn.Parameter(torch.Tensor(input_embed_dim, output_embed_dim))\n",
        "        self.reset_parameters()\n",
        "\n",
        "    def reset_parameters(self):\n",
        "        torch.nn.init.xavier_uniform_(self.weights)\n",
        "\n",
        "    def forward(self, H : torch.Tensor, A : torch.Tensor):\n",
        "        if A.shape[0] != A.shape[1]:\n",
        "          raise Exception(\"GNN layers expects an Adjecancy Matrix(square).\")\n",
        "        if H.shape[0] != A.shape[0]:\n",
        "          raise Exception(\"Shape mismatch between H and A. expected shape (\", A.shape[0], self.input_embed_dim, \") got (\", H.shape[0], \", \", H.shape[1], \")\")\n",
        "        if H.shape[1] != self.input_embed_dim:\n",
        "          raise Exception(\"H expected shape (\", A.shape[0], \", \", self.input_embed_dim, \") got (\", H.shape[0], \", \", H.shape[1], \")\")\n",
        "        A = A + torch.eye(A.shape[0])\n",
        "        A = (A > 0) * 1.\n",
        "        D = torch.sum(A, dim=1) + 1e-6\n",
        "        D_sqrt_inv = torch.diag(torch.pow(torch.sqrt(D), -1))\n",
        "        S = torch.matmul(torch.matmul(D_sqrt_inv, A), D_sqrt_inv)\n",
        "        S_k = torch.linalg.matrix_power(S, self.k)\n",
        "        A_cap = torch.matmul(S_k, H)\n",
        "\n",
        "        return torch.matmul(A_cap, self.weights)"
      ],
      "metadata": {
        "id": "1Pqy6_7_9oXe"
      },
      "execution_count": 13,
      "outputs": []
    },
    {
      "cell_type": "code",
      "source": [
        "A = torch.zeros(dataset.x.shape[0], dataset.x.shape[0], requires_grad=False)\n",
        "edge_index = dataset.edge_index\n",
        "for i in range (0, edge_index.shape[1]):\n",
        "  A[edge_index[0, i], edge_index[1, i]] += 1\n",
        "A = A\n",
        "H = dataset.x"
      ],
      "metadata": {
        "id": "Qz2NT6tQaPTX"
      },
      "execution_count": 14,
      "outputs": []
    },
    {
      "cell_type": "code",
      "source": [
        "class SemiSupervisedClassifier(torch.nn.Module):\n",
        "    def __init__(self, input_embed_dim : int,  num_classes : int, latent_dim = None):\n",
        "        super(SemiSupervisedClassifier, self).__init__()\n",
        "        if latent_dim is None:\n",
        "          latent_dim = input_embed_dim\n",
        "        self.gnn1 = SGCN(input_embed_dim, num_classes, 3)\n",
        "\n",
        "    def forward(self, H : torch.Tensor, A : torch.Tensor):\n",
        "        return self.gnn1(H, A)"
      ],
      "metadata": {
        "id": "Me2T0BGUbwuL"
      },
      "execution_count": 15,
      "outputs": []
    },
    {
      "cell_type": "code",
      "source": [
        "model = SemiSupervisedClassifier(dataset.x.shape[1], dataset.num_classes)"
      ],
      "metadata": {
        "id": "9S9kN2oKIK-F"
      },
      "execution_count": 29,
      "outputs": []
    },
    {
      "cell_type": "code",
      "source": [
        "import torch.nn.functional as F\n",
        "optimizer = torch.optim.Adam(model.parameters(), lr=0.2, weight_decay=5e-4)\n",
        "\n",
        "model.train()\n",
        "for epoch in range(100):\n",
        "    optimizer.zero_grad()\n",
        "    out = model(H, A)\n",
        "    loss = F.nll_loss(out[dataset.train_mask], dataset.y[dataset.train_mask])\n",
        "    print(loss)\n",
        "    loss.backward()\n",
        "    optimizer.step()"
      ],
      "metadata": {
        "colab": {
          "base_uri": "https://localhost:8080/"
        },
        "id": "NL7NLbAVIFx2",
        "outputId": "7dd06199-ab22-4cae-96e3-904b4a11f033"
      },
      "execution_count": 30,
      "outputs": [
        {
          "output_type": "stream",
          "name": "stdout",
          "text": [
            "tensor(0.0021, grad_fn=<NllLossBackward0>)\n",
            "tensor(-3.6099, grad_fn=<NllLossBackward0>)\n",
            "tensor(-7.1997, grad_fn=<NllLossBackward0>)\n",
            "tensor(-10.7637, grad_fn=<NllLossBackward0>)\n",
            "tensor(-14.2988, grad_fn=<NllLossBackward0>)\n",
            "tensor(-17.8027, grad_fn=<NllLossBackward0>)\n",
            "tensor(-21.2729, grad_fn=<NllLossBackward0>)\n",
            "tensor(-24.7069, grad_fn=<NllLossBackward0>)\n",
            "tensor(-28.1022, grad_fn=<NllLossBackward0>)\n",
            "tensor(-31.4565, grad_fn=<NllLossBackward0>)\n",
            "tensor(-34.7683, grad_fn=<NllLossBackward0>)\n",
            "tensor(-38.0362, grad_fn=<NllLossBackward0>)\n",
            "tensor(-41.2595, grad_fn=<NllLossBackward0>)\n",
            "tensor(-44.4378, grad_fn=<NllLossBackward0>)\n",
            "tensor(-47.5705, grad_fn=<NllLossBackward0>)\n",
            "tensor(-50.6572, grad_fn=<NllLossBackward0>)\n",
            "tensor(-53.6974, grad_fn=<NllLossBackward0>)\n",
            "tensor(-56.6905, grad_fn=<NllLossBackward0>)\n",
            "tensor(-59.6362, grad_fn=<NllLossBackward0>)\n",
            "tensor(-62.5342, grad_fn=<NllLossBackward0>)\n",
            "tensor(-65.3849, grad_fn=<NllLossBackward0>)\n",
            "tensor(-68.1887, grad_fn=<NllLossBackward0>)\n",
            "tensor(-70.9462, grad_fn=<NllLossBackward0>)\n",
            "tensor(-73.6582, grad_fn=<NllLossBackward0>)\n",
            "tensor(-76.3255, grad_fn=<NllLossBackward0>)\n",
            "tensor(-78.9486, grad_fn=<NllLossBackward0>)\n",
            "tensor(-81.5283, grad_fn=<NllLossBackward0>)\n",
            "tensor(-84.0651, grad_fn=<NllLossBackward0>)\n",
            "tensor(-86.5597, grad_fn=<NllLossBackward0>)\n",
            "tensor(-89.0131, grad_fn=<NllLossBackward0>)\n",
            "tensor(-91.4263, grad_fn=<NllLossBackward0>)\n",
            "tensor(-93.8004, grad_fn=<NllLossBackward0>)\n",
            "tensor(-96.1366, grad_fn=<NllLossBackward0>)\n",
            "tensor(-98.4361, grad_fn=<NllLossBackward0>)\n",
            "tensor(-100.6998, grad_fn=<NllLossBackward0>)\n",
            "tensor(-102.9286, grad_fn=<NllLossBackward0>)\n",
            "tensor(-105.1233, grad_fn=<NllLossBackward0>)\n",
            "tensor(-107.2849, grad_fn=<NllLossBackward0>)\n",
            "tensor(-109.4142, grad_fn=<NllLossBackward0>)\n",
            "tensor(-111.5121, grad_fn=<NllLossBackward0>)\n",
            "tensor(-113.5798, grad_fn=<NllLossBackward0>)\n",
            "tensor(-115.6180, grad_fn=<NllLossBackward0>)\n",
            "tensor(-117.6277, grad_fn=<NllLossBackward0>)\n",
            "tensor(-119.6097, grad_fn=<NllLossBackward0>)\n",
            "tensor(-121.5646, grad_fn=<NllLossBackward0>)\n",
            "tensor(-123.4933, grad_fn=<NllLossBackward0>)\n",
            "tensor(-125.3964, grad_fn=<NllLossBackward0>)\n",
            "tensor(-127.2748, grad_fn=<NllLossBackward0>)\n",
            "tensor(-129.1291, grad_fn=<NllLossBackward0>)\n",
            "tensor(-130.9600, grad_fn=<NllLossBackward0>)\n",
            "tensor(-132.7683, grad_fn=<NllLossBackward0>)\n",
            "tensor(-134.5544, grad_fn=<NllLossBackward0>)\n",
            "tensor(-136.3190, grad_fn=<NllLossBackward0>)\n",
            "tensor(-138.0624, grad_fn=<NllLossBackward0>)\n",
            "tensor(-139.7853, grad_fn=<NllLossBackward0>)\n",
            "tensor(-141.4880, grad_fn=<NllLossBackward0>)\n",
            "tensor(-143.1713, grad_fn=<NllLossBackward0>)\n",
            "tensor(-144.8354, grad_fn=<NllLossBackward0>)\n",
            "tensor(-146.4810, grad_fn=<NllLossBackward0>)\n",
            "tensor(-148.1083, grad_fn=<NllLossBackward0>)\n",
            "tensor(-149.7177, grad_fn=<NllLossBackward0>)\n",
            "tensor(-151.3096, grad_fn=<NllLossBackward0>)\n",
            "tensor(-152.8845, grad_fn=<NllLossBackward0>)\n",
            "tensor(-154.4425, grad_fn=<NllLossBackward0>)\n",
            "tensor(-155.9841, grad_fn=<NllLossBackward0>)\n",
            "tensor(-157.5096, grad_fn=<NllLossBackward0>)\n",
            "tensor(-159.0193, grad_fn=<NllLossBackward0>)\n",
            "tensor(-160.5135, grad_fn=<NllLossBackward0>)\n",
            "tensor(-161.9924, grad_fn=<NllLossBackward0>)\n",
            "tensor(-163.4562, grad_fn=<NllLossBackward0>)\n",
            "tensor(-164.9053, grad_fn=<NllLossBackward0>)\n",
            "tensor(-166.3399, grad_fn=<NllLossBackward0>)\n",
            "tensor(-167.7604, grad_fn=<NllLossBackward0>)\n",
            "tensor(-169.1669, grad_fn=<NllLossBackward0>)\n",
            "tensor(-170.5597, grad_fn=<NllLossBackward0>)\n",
            "tensor(-171.9391, grad_fn=<NllLossBackward0>)\n",
            "tensor(-173.3052, grad_fn=<NllLossBackward0>)\n",
            "tensor(-174.6583, grad_fn=<NllLossBackward0>)\n",
            "tensor(-175.9986, grad_fn=<NllLossBackward0>)\n",
            "tensor(-177.3265, grad_fn=<NllLossBackward0>)\n",
            "tensor(-178.6420, grad_fn=<NllLossBackward0>)\n",
            "tensor(-179.9454, grad_fn=<NllLossBackward0>)\n",
            "tensor(-181.2369, grad_fn=<NllLossBackward0>)\n",
            "tensor(-182.5167, grad_fn=<NllLossBackward0>)\n",
            "tensor(-183.7850, grad_fn=<NllLossBackward0>)\n",
            "tensor(-185.0420, grad_fn=<NllLossBackward0>)\n",
            "tensor(-186.2879, grad_fn=<NllLossBackward0>)\n",
            "tensor(-187.5229, grad_fn=<NllLossBackward0>)\n",
            "tensor(-188.7471, grad_fn=<NllLossBackward0>)\n",
            "tensor(-189.9608, grad_fn=<NllLossBackward0>)\n",
            "tensor(-191.1641, grad_fn=<NllLossBackward0>)\n",
            "tensor(-192.3572, grad_fn=<NllLossBackward0>)\n",
            "tensor(-193.5403, grad_fn=<NllLossBackward0>)\n",
            "tensor(-194.7134, grad_fn=<NllLossBackward0>)\n",
            "tensor(-195.8768, grad_fn=<NllLossBackward0>)\n",
            "tensor(-197.0306, grad_fn=<NllLossBackward0>)\n",
            "tensor(-198.1751, grad_fn=<NllLossBackward0>)\n",
            "tensor(-199.3102, grad_fn=<NllLossBackward0>)\n",
            "tensor(-200.4362, grad_fn=<NllLossBackward0>)\n",
            "tensor(-201.5533, grad_fn=<NllLossBackward0>)\n"
          ]
        }
      ]
    },
    {
      "cell_type": "code",
      "source": [
        "model.eval()\n",
        "pred = model(H, A).argmax(dim=1)\n",
        "correct = (pred[dataset.test_mask] == dataset.y[dataset.test_mask]).sum()\n",
        "acc = int(correct) / int(dataset.test_mask.sum())\n",
        "print(f'Accuracy: {acc:.4f}')"
      ],
      "metadata": {
        "colab": {
          "base_uri": "https://localhost:8080/"
        },
        "id": "6Z0nCyMtIe5X",
        "outputId": "2794c803-4bf5-4745-9b97-bde08390288d"
      },
      "execution_count": 31,
      "outputs": [
        {
          "output_type": "stream",
          "name": "stdout",
          "text": [
            "Accuracy: 0.7040\n"
          ]
        }
      ]
    }
  ]
}